{
 "cells": [
  {
   "cell_type": "code",
   "execution_count": 13,
   "metadata": {},
   "outputs": [
    {
     "name": "stderr",
     "output_type": "stream",
     "text": [
      "[nltk_data] Downloading package punkt to\n",
      "[nltk_data]     /Users/moritzsollberger/nltk_data...\n",
      "[nltk_data]   Unzipping tokenizers/punkt.zip.\n"
     ]
    },
    {
     "data": {
      "text/plain": [
       "True"
      ]
     },
     "execution_count": 13,
     "metadata": {},
     "output_type": "execute_result"
    }
   ],
   "source": [
    "from sumy.parsers.plaintext import PlaintextParser\n",
    "from sumy.nlp.tokenizers import Tokenizer\n",
    "import nltk; nltk.download('punkt')"
   ]
  },
  {
   "cell_type": "code",
   "execution_count": 28,
   "metadata": {},
   "outputs": [],
   "source": [
    "from sumy.summarizers.text_rank import TextRankSummarizer\n",
    "from sumy.summarizers.lsa import LsaSummarizer\n",
    "from sumy.summarizers.edmundson import EdmundsonSummarizer"
   ]
  },
  {
   "cell_type": "code",
   "execution_count": 31,
   "metadata": {},
   "outputs": [],
   "source": [
    "LANGUAGE = 'english'\n",
    "file = '/Users/moritzsollberger/Documents/SpicedAcademy/CourseMaterialGit/7_week/Textsummery/yo1.txt'\n",
    "COUNT = 10\n",
    "parser = PlaintextParser.from_file(file, Tokenizer(LANGUAGE))"
   ]
  },
  {
   "cell_type": "code",
   "execution_count": 32,
   "metadata": {},
   "outputs": [
    {
     "name": "stdout",
     "output_type": "stream",
     "text": [
      "Machine learning uses two types of techniques: supervised learning, which trains a model on known input and output data so that it can predict future outputs, and unsupervised learning, which finds hidden patterns or intrinsic structures in input data.\n",
      "A supervised learning algorithm takes a known set of input data and known responses to the data (output) and trains a model to generate reasonable predictions for the response to new data.\n",
      "Use regression techniques if you are working with a data range or if the nature of your response is a real number, such as temperature or the time until failure for a piece of equipment.\n",
      "A phone can only talk to one tower at a time, so the team uses clustering algorithms to design the best placement of cell towers to optimize signal reception for groups, or clusters, of their customers.\n",
      "Choosing the right algorithm can seem overwhelming—there are dozens of supervised and unsupervised machine learning algorithms, and each takes a different approach to learning.\n",
      "But algorithm selection also depends on the size and type of data you’re working with, the insights you want to get from the data, and how those insights will be used.\n",
      "The use of an environment means that there is no fixed training dataset, rather a goal or set of goals that an agent is required to achieve, actions they may perform, and feedback about performance toward the goal.\n",
      "It is similar to supervised learning in that the model has some response from which to learn, although the feedback may be delayed and statistically noisy, making it challenging for the agent or model to connect cause and effect.\n",
      "An example of a reinforcement problem is playing a game where the agent has the goal of getting a high score and can make moves in the game and received feedback in terms of punishments or rewards.\n",
      "The goal of a semi-supervised learning model is to make effective use of all of the available data, not just the labelled data like in supervised learning.\n"
     ]
    }
   ],
   "source": [
    "tsa = TextRankSummarizer()\n",
    "tsa1 = tsa(parser.document, COUNT)\n",
    "for one in tsa1:\n",
    "    print(one)"
   ]
  },
  {
   "cell_type": "code",
   "execution_count": 33,
   "metadata": {},
   "outputs": [
    {
     "name": "stdout",
     "output_type": "stream",
     "text": [
      "Artificial intelligence will shape our future more powerfully than any other innovation this century.\n",
      "Anyone who does not understand it will soon find themselves feeling left behind, waking up in a world full of technology that feels more and more like magic.\n",
      "After a couple of AI winters and periods of false hope over the past four decades, rapid advances in data storage and computer processing power have dramatically changed the game in recent years.\n",
      "In 2015, Google trained a conversational agent (AI) that could not only convincingly interact with humans as a tech support helpdesk, but also discuss morality, express opinions, and answer general facts-based questions.\n",
      "Machine learning is actively being used today, perhaps in many more places than one would expect.\n",
      "They are used every day to make critical decisions in medical diagnosis, stock trading, energy load forecasting, and more.\n",
      "Supervised machine learning builds a model that makes predictions based on evidence in the presence of uncertainty.\n",
      "It is used to draw inferences from datasets consisting of input data without labeled responses.\n",
      "For example, if a cell phone company wants optimize the locations where they build cell phone towers, they can use machine learning to estimate the number of clusters of people relying on their towers.\n",
      "The use of an environment means that there is no fixed training dataset, rather a goal or set of goals that an agent is required to achieve, actions they may perform, and feedback about performance toward the goal.\n"
     ]
    }
   ],
   "source": [
    "lsa = LsaSummarizer()\n",
    "lsa1 = lsa(parser.document, COUNT)\n",
    "for one in lsa1:\n",
    "    print(one)"
   ]
  },
  {
   "cell_type": "code",
   "execution_count": 40,
   "metadata": {},
   "outputs": [
    {
     "name": "stdout",
     "output_type": "stream",
     "text": [
      "Artificial intelligence will shape our future more powerfully than any other innovation this century.\n",
      "Machine Learning is the field of study that gives computers the capability to learn without being explicitly programmed.\n",
      "Machine learning is actively being used today, perhaps in many more places than one would expect.\n",
      "Machine learning algorithms use computational methods to “learn” information directly from data without relying on a predetermined equation as a model.\n",
      "Deep learning is a specialized form of machine learning.\n",
      "For example, media sites rely on machine learning to sift through millions of options to give you song or movie recommendations.\n",
      "Machine learning uses two types of techniques: supervised learning, which trains a model on known input and output data so that it can predict future outputs, and unsupervised learning, which finds hidden patterns or intrinsic structures in input data.\n",
      "Supervised machine learning builds a model that makes predictions based on evidence in the presence of uncertainty.\n",
      "Use supervised learning if you have known data for the output you are trying to predict.\n",
      "Once groups or patterns are discovered, supervised methods or ideas from supervised learning may be used to label the unlabeled examples or apply labels to unlabeled representations later used for prediction.\n"
     ]
    }
   ],
   "source": [
    "esa = EdmundsonSummarizer()\n",
    "esa.bonus_words = ['supervised', 'unsupervised', 'machine'] #things i want to have an extra weight added\n",
    "esa.stigma_words = ['another', 'and'] #Topics I am not interested in\n",
    "esa.null_words = ['the']\n",
    "esa1 = esa(parser.document, COUNT)\n",
    "for one in esa1:\n",
    "    print(one)"
   ]
  },
  {
   "cell_type": "code",
   "execution_count": 46,
   "metadata": {},
   "outputs": [],
   "source": [
    "file1 = '/Users/moritzsollberger/Documents/SpicedAcademy/CourseMaterialGit/7_week/Textsummery/testtext.txt'"
   ]
  },
  {
   "cell_type": "code",
   "execution_count": 47,
   "metadata": {},
   "outputs": [
    {
     "name": "stdout",
     "output_type": "stream",
     "text": [
      "Cognitive restructuring, in particular, has been shown to be a critical component of CBT pain management.\n",
      "In several ways self-help interventions delivered via the internet may be ideal for persons living with chronic lower back pain.\n",
      "Hence, participating in treatment online from the privacy of one’s own home may be especially appealing.\n",
      "Second, comprehensive or multidisciplinary pain treatment programs may not be accessible for a substantial number of patients, as they tend to be located in large, urban areas and require a high level of commitment (such as daily attendance for several weeks).\n",
      "This rapid change is perhaps due to the acceptance of an internally consistent and meaningful treatment rationale.\n",
      "Indeed, we postulate that introducing a mind/body treatment rationale, thus encouraging patients to try new ways to manage their own pain is 24 The intervention and wait-list control group had somewhat different patterns of use of the workbook.\n",
      "Therefore, we strongly encouraged all participants to complete at least two thirds of the intervention.\n",
      "25 Little remains known regarding who benefits most from self-help treatments, present study did not shed any new light on the issue.\n",
      "Future research should evaluate the relative effectiveness of online self-help with other, popular and inexpensive self-help methods, such as self-help books.\n",
      "As the health care system becomes more complex and health care costs continue to rise, a low-cost, self-paced intervention such as the Wellness Workbook holds great promise in reaching those who might normally have difficulty accessing state-of-the-art biopsychosocial interventions for CLBP.\n"
     ]
    }
   ],
   "source": [
    "parser1 = PlaintextParser.from_file(file1, Tokenizer(LANGUAGE))\n",
    "lsa = LsaSummarizer()\n",
    "lsa1 = lsa(parser1.document, COUNT)\n",
    "for one in lsa1:\n",
    "    print(one)"
   ]
  },
  {
   "cell_type": "code",
   "execution_count": null,
   "metadata": {},
   "outputs": [],
   "source": []
  }
 ],
 "metadata": {
  "kernelspec": {
   "display_name": "Python 3",
   "language": "python",
   "name": "python3"
  },
  "language_info": {
   "codemirror_mode": {
    "name": "ipython",
    "version": 3
   },
   "file_extension": ".py",
   "mimetype": "text/x-python",
   "name": "python",
   "nbconvert_exporter": "python",
   "pygments_lexer": "ipython3",
   "version": "3.7.4"
  }
 },
 "nbformat": 4,
 "nbformat_minor": 4
}
